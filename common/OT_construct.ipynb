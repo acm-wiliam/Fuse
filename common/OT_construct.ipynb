{
 "cells": [
  {
   "cell_type": "markdown",
   "id": "768cfded",
   "metadata": {},
   "source": [
    "## 不经意传输"
   ]
  },
  {
   "cell_type": "markdown",
   "id": "c961e2c2",
   "metadata": {},
   "source": [
    "### 明文 OT"
   ]
  },
  {
   "cell_type": "code",
   "execution_count": null,
   "id": "858d7beb",
   "metadata": {},
   "outputs": [
    {
     "name": "stdout",
     "output_type": "stream",
     "text": [
      "Sender Output: ['message0', 'message1']\n",
      "Receiver Output: message1\n"
     ]
    }
   ],
   "source": [
    "# 明文OT\n",
    "class OT:\n",
    "    def __init__(self, sender_input, receiver_choice):\n",
    "        self.sender_input = sender_input\n",
    "        self.receiver_choice = receiver_choice\n",
    "        self.sender_output = None\n",
    "        self.receiver_output = None\n",
    "\n",
    "    def execute_protocol(self):\n",
    "        # Simulate the OT protocol\n",
    "        self.sender_output = self.sender_input\n",
    "        self.receiver_output = self.sender_input[self.receiver_choice]\n",
    "\n",
    "    def get_sender_output(self):\n",
    "        return self.sender_output\n",
    "\n",
    "    def get_receiver_output(self):\n",
    "        return self.receiver_output\n",
    "\n",
    "# Example usage\n",
    "sender_input = ['message0', 'message1']\n",
    "receiver_choice = 1\n",
    "\n",
    "ot = OT(sender_input, receiver_choice)\n",
    "ot.execute_protocol()\n",
    "\n",
    "print(\"Sender Output:\", ot.get_sender_output())\n",
    "print(\"Receiver Output:\", ot.get_receiver_output())"
   ]
  },
  {
   "cell_type": "markdown",
   "id": "fcf1ae4b",
   "metadata": {},
   "source": [
    "### Base OT"
   ]
  },
  {
   "cell_type": "code",
   "execution_count": null,
   "id": "e6ed568a",
   "metadata": {},
   "outputs": [],
   "source": []
  }
 ],
 "metadata": {
  "kernelspec": {
   "display_name": "Python 3",
   "language": "python",
   "name": "python3"
  },
  "language_info": {
   "codemirror_mode": {
    "name": "ipython",
    "version": 3
   },
   "file_extension": ".py",
   "mimetype": "text/x-python",
   "name": "python",
   "nbconvert_exporter": "python",
   "pygments_lexer": "ipython3",
   "version": "3.7.6"
  }
 },
 "nbformat": 4,
 "nbformat_minor": 5
}
