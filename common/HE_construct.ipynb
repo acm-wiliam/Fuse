{
 "cells": [
  {
   "cell_type": "markdown",
   "id": "03a87540",
   "metadata": {},
   "source": [
    "## 同态加密"
   ]
  },
  {
   "cell_type": "markdown",
   "id": "6eb25ee8",
   "metadata": {},
   "source": [
    "### TenSeal"
   ]
  },
  {
   "cell_type": "code",
   "execution_count": 8,
   "id": "65fd538e",
   "metadata": {},
   "outputs": [
    {
     "data": {
      "text/plain": [
       "[157.0000213332473, -90.00001202524788, 153.00002057707877]"
      ]
     },
     "execution_count": 8,
     "metadata": {},
     "output_type": "execute_result"
    }
   ],
   "source": [
    "import tenseal as ts\n",
    "\n",
    "# Setup TenSEAL context\n",
    "context = ts.context(\n",
    "            ts.SCHEME_TYPE.CKKS,\n",
    "            poly_modulus_degree=8192,\n",
    "            coeff_mod_bit_sizes=[60, 40, 40, 60]\n",
    "          )\n",
    "context.generate_galois_keys()\n",
    "context.global_scale = 2**40\n",
    "\n",
    "v1 = [0, 1, 2, 3, 4]\n",
    "v2 = [4, 3, 2, 1, 0]\n",
    "\n",
    "# encrypted vectors\n",
    "enc_v1 = ts.ckks_vector(context, v1)\n",
    "enc_v2 = ts.ckks_vector(context, v2)\n",
    "\n",
    "result = enc_v1 + enc_v2\n",
    "result.decrypt() # ~ [4, 4, 4, 4, 4]\n",
    "\n",
    "result = enc_v1.dot(enc_v2)\n",
    "result.decrypt() # ~ [10]\n",
    "\n",
    "matrix = [\n",
    "  [73, 0.5, 8],\n",
    "  [81, -5, 66],\n",
    "  [-100, -78, -2],\n",
    "  [0, 9, 17],\n",
    "  [69, 11 , 10],\n",
    "]\n",
    "result = enc_v1.matmul(matrix)\n",
    "result.decrypt() # ~ [157, -90, 153]"
   ]
  }
 ],
 "metadata": {
  "kernelspec": {
   "display_name": "Python 3",
   "language": "python",
   "name": "python3"
  },
  "language_info": {
   "codemirror_mode": {
    "name": "ipython",
    "version": 3
   },
   "file_extension": ".py",
   "mimetype": "text/x-python",
   "name": "python",
   "nbconvert_exporter": "python",
   "pygments_lexer": "ipython3",
   "version": "3.7.6"
  }
 },
 "nbformat": 4,
 "nbformat_minor": 5
}
