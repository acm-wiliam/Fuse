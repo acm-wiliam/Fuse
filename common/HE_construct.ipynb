{
 "cells": [
  {
   "cell_type": "markdown",
   "id": "03a87540",
   "metadata": {},
   "source": [
    "## 同态加密"
   ]
  },
  {
   "cell_type": "markdown",
   "id": "6eb25ee8",
   "metadata": {},
   "source": [
    "### TenSeal"
   ]
  },
  {
   "cell_type": "code",
   "execution_count": 1,
   "id": "65fd538e",
   "metadata": {},
   "outputs": [
    {
     "data": {
      "text/plain": [
       "[157.00002117489717, -90.00001188560901, 153.00002055798922]"
      ]
     },
     "execution_count": 1,
     "metadata": {},
     "output_type": "execute_result"
    }
   ],
   "source": [
    "import tenseal as ts\n",
    "\n",
    "# Setup TenSEAL context\n",
    "context = ts.context(\n",
    "            ts.SCHEME_TYPE.CKKS,\n",
    "            poly_modulus_degree=8192,\n",
    "            coeff_mod_bit_sizes=[60, 40, 40, 60]\n",
    "          )\n",
    "context.generate_galois_keys()\n",
    "context.global_scale = 2**40\n",
    "\n",
    "v1 = [0, 1, 2, 3, 4]\n",
    "v2 = [4, 3, 2, 1, 0]\n",
    "\n",
    "# encrypted vectors\n",
    "enc_v1 = ts.ckks_vector(context, v1)\n",
    "enc_v2 = ts.ckks_vector(context, v2)\n",
    "\n",
    "result = enc_v1 + enc_v2\n",
    "result.decrypt() # ~ [4, 4, 4, 4, 4]\n",
    "\n",
    "result = enc_v1.dot(enc_v2)\n",
    "result.decrypt() # ~ [10]\n",
    "\n",
    "matrix = [\n",
    "  [73, 0.5, 8],\n",
    "  [81, -5, 66],\n",
    "  [-100, -78, -2],\n",
    "  [0, 9, 17],\n",
    "  [69, 11 , 10],\n",
    "]\n",
    "result = enc_v1.matmul(matrix)\n",
    "result.decrypt() # ~ [157, -90, 153]"
   ]
  },
  {
   "cell_type": "code",
   "execution_count": 2,
   "id": "271f6926",
   "metadata": {},
   "outputs": [
    {
     "name": "stdout",
     "output_type": "stream",
     "text": [
      "密文和明文加法结果: [1.0000000000112041, 2.9999999996761653, 4.999999997552485, 7.000000000648437, 8.999999998543444]\n",
      "密文和明文减法结果: [-0.9999999999801772, -1.000000000367196, -1.0000000024873197, -0.9999999993591167, -1.0000000014506938]\n"
     ]
    }
   ],
   "source": [
    "# 明文向量\n",
    "plain_v = [1, 2, 3, 4, 5]\n",
    "\n",
    "# 密文和明文加法\n",
    "result_add = enc_v1 + plain_v\n",
    "print(\"密文和明文加法结果:\", result_add.decrypt())\n",
    "\n",
    "# 密文和明文减法\n",
    "result_sub = enc_v1 - plain_v\n",
    "print(\"密文和明文减法结果:\", result_sub.decrypt())"
   ]
  }
 ],
 "metadata": {
  "kernelspec": {
   "display_name": "Python 3",
   "language": "python",
   "name": "python3"
  },
  "language_info": {
   "codemirror_mode": {
    "name": "ipython",
    "version": 3
   },
   "file_extension": ".py",
   "mimetype": "text/x-python",
   "name": "python",
   "nbconvert_exporter": "python",
   "pygments_lexer": "ipython3",
   "version": "3.7.6"
  }
 },
 "nbformat": 4,
 "nbformat_minor": 5
}
