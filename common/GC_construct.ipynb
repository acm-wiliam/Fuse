{
 "cells": [
  {
   "cell_type": "markdown",
   "id": "768cfded",
   "metadata": {},
   "source": [
    "## 混淆电路"
   ]
  },
  {
   "cell_type": "markdown",
   "id": "c961e2c2",
   "metadata": {},
   "source": [
    "### Free XOR"
   ]
  },
  {
   "cell_type": "code",
   "execution_count": 2,
   "id": "858d7beb",
   "metadata": {},
   "outputs": [
    {
     "name": "stdout",
     "output_type": "stream",
     "text": [
      "a: [ 55  33  88  87 178 148 143  51  20 103]\n",
      "b: [ 57 193 188  62 132  59 202 168  15 161]\n",
      "c (a XOR b): [ 14 224 228 105  54 175  69 155  27 198]\n"
     ]
    }
   ],
   "source": [
    "import numpy as np\n",
    "\n",
    "# Randomly select two vectors a and b\n",
    "a = np.random.randint(0, 256, size=10)\n",
    "b = np.random.randint(0, 256, size=10)\n",
    "\n",
    "# Compute the XOR value c\n",
    "c = a ^ b\n",
    "\n",
    "print(\"a:\", a)\n",
    "print(\"b:\", b)\n",
    "print(\"c (a XOR b):\", c)"
   ]
  },
  {
   "cell_type": "code",
   "execution_count": 3,
   "id": "29e4cfae",
   "metadata": {},
   "outputs": [
    {
     "name": "stdout",
     "output_type": "stream",
     "text": [
      "mask: [ 63 200 240 212  49 157  18 224 148 164]\n",
      "a_masked (a XOR mask): [  8 233 168 131 131   9 157 211 128 195]\n",
      "b_masked (b XOR mask): [  6   9  76 234 181 166 216  72 155   5]\n"
     ]
    }
   ],
   "source": [
    "# 生成一个随机的mask向量\n",
    "mask = np.random.randint(0, 256, size=10)\n",
    "\n",
    "# 将a和b都与mask向量进行异或\n",
    "a_masked = a ^ mask\n",
    "b_masked = b ^ mask\n",
    "\n",
    "print(\"mask:\", mask)\n",
    "print(\"a_masked (a XOR mask):\", a_masked)\n",
    "print(\"b_masked (b XOR mask):\", b_masked)"
   ]
  },
  {
   "cell_type": "code",
   "execution_count": 4,
   "id": "78bfbf1f",
   "metadata": {},
   "outputs": [
    {
     "name": "stdout",
     "output_type": "stream",
     "text": [
      "c_masked (a_masked XOR b_masked): [ 14 224 228 105  54 175  69 155  27 198]\n"
     ]
    }
   ],
   "source": [
    "c_masked = a_masked ^ b_masked\n",
    "print(\"c_masked (a_masked XOR b_masked):\", c_masked)"
   ]
  },
  {
   "cell_type": "markdown",
   "id": "e1f35c2a",
   "metadata": {},
   "source": [
    "### GRR3"
   ]
  },
  {
   "cell_type": "code",
   "execution_count": 5,
   "id": "4678c53b",
   "metadata": {},
   "outputs": [
    {
     "name": "stdout",
     "output_type": "stream",
     "text": [
      "a: [158  47  57  54 122  83  56   9 208 253]\n",
      "b: [125  93  20  39 127  15   3  31  87 174]\n",
      "and_result (a AND b): [ 28  13  16  38 122   3   0   9  80 172]\n"
     ]
    }
   ],
   "source": [
    "# 生成两个随机向量 a 和 b\n",
    "a = np.random.randint(0, 256, size=10)\n",
    "b = np.random.randint(0, 256, size=10)\n",
    "\n",
    "# 进行按位与运算\n",
    "and_result = a & b\n",
    "\n",
    "print(\"a:\", a)\n",
    "print(\"b:\", b)\n",
    "print(\"and_result (a AND b):\", and_result)"
   ]
  },
  {
   "cell_type": "markdown",
   "id": "ae57d0b3",
   "metadata": {},
   "source": [
    "### ReLU"
   ]
  },
  {
   "cell_type": "code",
   "execution_count": 7,
   "id": "f9e9bfc5",
   "metadata": {},
   "outputs": [
    {
     "name": "stdout",
     "output_type": "stream",
     "text": [
      "x: -142\n",
      "ReLU(x): 0\n"
     ]
    }
   ],
   "source": [
    "# 生成一个随机元素x\n",
    "x = np.random.randint(-256, 256)\n",
    "\n",
    "# 计算ReLU(x)的值\n",
    "relu_x = (x & (x >> 31)) ^ x\n",
    "\n",
    "print(\"x:\", x)\n",
    "print(\"ReLU(x):\", relu_x)"
   ]
  },
  {
   "cell_type": "code",
   "execution_count": 9,
   "id": "c46d0cfd",
   "metadata": {},
   "outputs": [
    {
     "name": "stdout",
     "output_type": "stream",
     "text": [
      "x: -14.956631035691998\n",
      "ReLU(x): -14.95663070678711\n"
     ]
    }
   ],
   "source": [
    "import struct\n",
    "\n",
    "# 生成一个随机浮点数 x\n",
    "x = np.random.uniform(-256, 256)\n",
    "\n",
    "# 将浮点数转换为其位表示\n",
    "x_bits = struct.unpack('!I', struct.pack('!f', x))[0]\n",
    "\n",
    "# 计算 ReLU(x) 的值\n",
    "relu_x_bits = (x_bits & (x_bits >> 31)) ^ x_bits\n",
    "\n",
    "# 将位表示转换回浮点数\n",
    "relu_x = struct.unpack('!f', struct.pack('!I', relu_x_bits))[0]\n",
    "\n",
    "print(\"x:\", x)\n",
    "print(\"ReLU(x):\", relu_x)"
   ]
  },
  {
   "cell_type": "code",
   "execution_count": 20,
   "id": "48f59cf7",
   "metadata": {},
   "outputs": [
    {
     "name": "stdout",
     "output_type": "stream",
     "text": [
      "Initial a_bits: 01000001011000000000000000000000, b_bits: 01000001110010000000000000000000\n",
      "Updated a_bits: 10000011001010000000000000000000, b_bits: 00000000000000000000000000000000\n",
      "a: 14.0\n",
      "b: 25.0\n",
      "a + b: -4.9370762734536075e-37\n"
     ]
    }
   ],
   "source": [
    "import struct\n",
    "\n",
    "def float_to_bits(f):\n",
    "    return struct.unpack('!I', struct.pack('!f', f))[0]\n",
    "\n",
    "def bits_to_float(b):\n",
    "    return struct.unpack('!f', struct.pack('!I', b))[0]\n",
    "\n",
    "def add_using_xor_and_float(a, b):\n",
    "    a_bits = float_to_bits(a)\n",
    "    b_bits = float_to_bits(b)\n",
    "    \n",
    "    print(f\"Initial a_bits: {a_bits:032b}, b_bits: {b_bits:032b}\")\n",
    "\n",
    "    while b_bits != 0:\n",
    "        carry = a_bits & b_bits\n",
    "        a_bits = a_bits ^ b_bits\n",
    "        b_bits = carry << 1\n",
    "    \n",
    "    print(f\"Updated a_bits: {a_bits:032b}, b_bits: {b_bits:032b}\")\n",
    "\n",
    "    # a_bits = a_bits >> 1  # Clear the sign bit\n",
    "\n",
    "    return bits_to_float(a_bits)\n",
    "\n",
    "# 示例\n",
    "a = 14.0\n",
    "b = 25.0\n",
    "result = add_using_xor_and_float(a, b)\n",
    "print(\"a:\", a)\n",
    "print(\"b:\", b)\n",
    "print(\"a + b:\", result)"
   ]
  },
  {
   "cell_type": "code",
   "execution_count": 25,
   "id": "2400dbfa",
   "metadata": {},
   "outputs": [
    {
     "name": "stdout",
     "output_type": "stream",
     "text": [
      "Restored a_bits: 14.0, b_bits: 25.0\n",
      "Initial a_bits: 01000001011000000000000000000000, b_bits: 01000001110010000000000000000000\n",
      "Updated a_bits: 10000011001010000000000000000000, b_bits: 00000000000000000000000000000000\n",
      "a: 14.0\n",
      "b: 25.0\n",
      "a + b: -4.9370762734536075e-37\n"
     ]
    }
   ],
   "source": [
    "import struct\n",
    "\n",
    "def float_to_bits(f):\n",
    "    return struct.unpack('!I', struct.pack('!f', f))[0]\n",
    "\n",
    "def bits_to_float(b):\n",
    "    return struct.unpack('!f', struct.pack('!I', b))[0]\n",
    "\n",
    "def add_using_xor_and_float(a, b):\n",
    "    a_bits = float_to_bits(a)\n",
    "    b_bits = float_to_bits(b)\n",
    "\n",
    "    print(f\"Restored a_bits: {bits_to_float(a_bits)}, b_bits: {bits_to_float(b_bits)}\")\n",
    "    \n",
    "    print(f\"Initial a_bits: {a_bits:032b}, b_bits: {b_bits:032b}\")\n",
    "\n",
    "    while b_bits != 0:\n",
    "        carry = a_bits & b_bits\n",
    "        a_bits = a_bits ^ b_bits\n",
    "        b_bits = carry << 1\n",
    "    \n",
    "    print(f\"Updated a_bits: {a_bits:032b}, b_bits: {b_bits:032b}\")\n",
    "\n",
    "    return bits_to_float(a_bits)\n",
    "\n",
    "# 示例\n",
    "a = 14.0\n",
    "b = 25.0\n",
    "result = add_using_xor_and_float(a, b)\n",
    "print(\"a:\", a)\n",
    "print(\"b:\", b)\n",
    "print(\"a + b:\", result)"
   ]
  },
  {
   "cell_type": "markdown",
   "id": "9e79d240",
   "metadata": {},
   "source": [
    "### Construction"
   ]
  },
  {
   "cell_type": "code",
   "execution_count": null,
   "id": "32db81e9",
   "metadata": {},
   "outputs": [],
   "source": []
  }
 ],
 "metadata": {
  "kernelspec": {
   "display_name": "Python 3",
   "language": "python",
   "name": "python3"
  },
  "language_info": {
   "codemirror_mode": {
    "name": "ipython",
    "version": 3
   },
   "file_extension": ".py",
   "mimetype": "text/x-python",
   "name": "python",
   "nbconvert_exporter": "python",
   "pygments_lexer": "ipython3",
   "version": "3.7.6"
  }
 },
 "nbformat": 4,
 "nbformat_minor": 5
}
